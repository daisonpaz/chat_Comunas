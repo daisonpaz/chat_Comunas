{
  "nbformat": 4,
  "nbformat_minor": 0,
  "metadata": {
    "colab": {
      "provenance": [],
      "authorship_tag": "ABX9TyMDZ3RNHBY1debx3i/sq+ir",
      "include_colab_link": true
    },
    "kernelspec": {
      "name": "python3",
      "display_name": "Python 3"
    },
    "language_info": {
      "name": "python"
    }
  },
  "cells": [
    {
      "cell_type": "markdown",
      "metadata": {
        "id": "view-in-github",
        "colab_type": "text"
      },
      "source": [
        "<a href=\"https://colab.research.google.com/github/daisonpaz/chat_Comunas/blob/main/teste1.ipynb\" target=\"_parent\"><img src=\"https://colab.research.google.com/assets/colab-badge.svg\" alt=\"Open In Colab\"/></a>"
      ]
    },
    {
      "cell_type": "code",
      "execution_count": 1,
      "metadata": {
        "colab": {
          "base_uri": "https://localhost:8080/"
        },
        "id": "HH_4LJQH78pZ",
        "outputId": "75353629-20dc-4474-b6c9-310351932712"
      },
      "outputs": [
        {
          "output_type": "stream",
          "name": "stdout",
          "text": [
            "\u001b[2K     \u001b[90m━━━━━━━━━━━━━━━━━━━━━━━━━━━━━━━━━━━━━━━━\u001b[0m \u001b[32m150.7/150.7 kB\u001b[0m \u001b[31m1.4 MB/s\u001b[0m eta \u001b[36m0:00:00\u001b[0m\n",
            "\u001b[2K     \u001b[90m━━━━━━━━━━━━━━━━━━━━━━━━━━━━━━━━━━━━━━━━\u001b[0m \u001b[32m679.1/679.1 kB\u001b[0m \u001b[31m8.0 MB/s\u001b[0m eta \u001b[36m0:00:00\u001b[0m\n",
            "\u001b[?25h"
          ]
        }
      ],
      "source": [
        "!pip install -q -U google-generativeai"
      ]
    },
    {
      "cell_type": "code",
      "source": [
        "# Import the Python SDK\n",
        "import google.generativeai as genai\n",
        "# Used to securely store your API key\n",
        "from google.colab import userdata\n",
        "\n",
        "GOOGLE_API_KEY=userdata.get('comunas')\n",
        "genai.configure(api_key=GOOGLE_API_KEY)"
      ],
      "metadata": {
        "id": "PczrjF4_8fXx"
      },
      "execution_count": 3,
      "outputs": []
    },
    {
      "cell_type": "markdown",
      "source": [
        "Listar os modelos disponíveis"
      ],
      "metadata": {
        "id": "dq2hkoViFQCL"
      }
    },
    {
      "cell_type": "code",
      "source": [
        "for m in genai.list_models():\n",
        "  if \"generateContent\" in m.supported_generation_methods:\n",
        "    print(m.name)"
      ],
      "metadata": {
        "colab": {
          "base_uri": "https://localhost:8080/",
          "height": 156
        },
        "id": "4sI3BRerFJ65",
        "outputId": "32f54b04-7fd2-4147-9308-a604e0beac1f"
      },
      "execution_count": 6,
      "outputs": [
        {
          "output_type": "stream",
          "name": "stdout",
          "text": [
            "models/gemini-1.0-pro\n",
            "models/gemini-1.0-pro-001\n",
            "models/gemini-1.0-pro-latest\n",
            "models/gemini-1.0-pro-vision-latest\n",
            "models/gemini-1.5-flash-latest\n",
            "models/gemini-1.5-pro-latest\n",
            "models/gemini-pro\n",
            "models/gemini-pro-vision\n"
          ]
        }
      ]
    },
    {
      "cell_type": "code",
      "source": [
        "configs = {\n",
        "    \"candidate_count\": 1,\n",
        "    \"temperature\": 0.5,\n",
        "}"
      ],
      "metadata": {
        "id": "O1fftpH_IHai"
      },
      "execution_count": 7,
      "outputs": []
    },
    {
      "cell_type": "code",
      "source": [
        "seguranca = {\n",
        "    \"HARASSMENT\": \"BLOCK_NONE\",\n",
        "    \"HATE\": \"BLOCK_NONE\",\n",
        "    \"SEXUAL\": \"BLOCK_NONE\",\n",
        "    \"DANGEROUS\": \"BLOCK_NONE\"\n",
        "}"
      ],
      "metadata": {
        "id": "FZt9XY4tI81b"
      },
      "execution_count": 8,
      "outputs": []
    },
    {
      "cell_type": "markdown",
      "source": [
        "Escolhe o tipo de modelo, no caso o Gemini Pro e o inicializa"
      ],
      "metadata": {
        "id": "9-e0lnoSH8XX"
      }
    },
    {
      "cell_type": "code",
      "source": [
        "model = genai.GenerativeModel(model_name='gemini-1.0-pro',\n",
        "                              generation_config=configs,\n",
        "                              safety_settings=seguranca)"
      ],
      "metadata": {
        "id": "1qlUvp3G_lRu"
      },
      "execution_count": 9,
      "outputs": []
    },
    {
      "cell_type": "markdown",
      "source": [
        "Verificar se o modelo está gerando conteúdo."
      ],
      "metadata": {
        "id": "dmIY86f6UrJR"
      }
    },
    {
      "cell_type": "code",
      "source": [
        "response = model.generate_content(\"Vamos ver as mazelas do comunismo. Começaremos por Cuba.\")\n",
        "print(response.text)"
      ],
      "metadata": {
        "colab": {
          "base_uri": "https://localhost:8080/",
          "height": 610
        },
        "id": "TiK1mNe3_oiA",
        "outputId": "19852559-1c5d-4949-b6e9-f2a4898a03ae"
      },
      "execution_count": 13,
      "outputs": [
        {
          "output_type": "stream",
          "name": "stdout",
          "text": [
            "**Mazelas do Comunismo em Cuba**\n",
            "\n",
            "**Econômicas:**\n",
            "\n",
            "* Economia centralizada e ineficiente, levando à escassez e à baixa produtividade.\n",
            "* Dependência excessiva do turismo e das remessas, tornando a economia vulnerável a flutuações externas.\n",
            "* Falta de investimento em infraestrutura e tecnologia, resultando em serviços públicos precários.\n",
            "* Corrupção e má gestão endêmicas, prejudicando o crescimento econômico.\n",
            "\n",
            "**Políticas:**\n",
            "\n",
            "* Regime de partido único, suprimindo a dissidência e a liberdade de expressão.\n",
            "* Eleições não livres e justas, garantindo o controle do poder pelo Partido Comunista.\n",
            "* Restrições à liberdade de imprensa, reunião e associação.\n",
            "* Militarização da sociedade, com as forças armadas desempenhando um papel dominante na política e na economia.\n",
            "\n",
            "**Sociais:**\n",
            "\n",
            "* Sistema de saúde e educação deteriorado, com acesso limitado a cuidados de qualidade.\n",
            "* Desigualdade social crescente, com uma elite privilegiada e uma população empobrecida.\n",
            "* Emigração em massa, à medida que os cubanos buscam melhores oportunidades no exterior.\n",
            "* Violações dos direitos humanos, incluindo detenções arbitrárias, tortura e execuções extrajudiciais.\n",
            "\n",
            "**Ambientais:**\n",
            "\n",
            "* Exploração excessiva dos recursos naturais, levando ao desmatamento, poluição e degradação do solo.\n",
            "* Falta de proteção ambiental, resultando em danos ao ecossistema e à biodiversidade.\n",
            "\n",
            "**Outros:**\n",
            "\n",
            "* Isolamento internacional, devido à repressão política e às relações tensas com os Estados Unidos.\n",
            "* Dependência da ajuda externa, tornando Cuba vulnerável à influência estrangeira.\n",
            "* Cultura de medo e desconfiança, inibindo a inovação e o empreendedorismo.\n"
          ]
        }
      ]
    },
    {
      "cell_type": "code",
      "source": [
        "chat = model.start_chat(history=[])"
      ],
      "metadata": {
        "id": "Pb_NTcPsW3Ax"
      },
      "execution_count": 10,
      "outputs": []
    },
    {
      "cell_type": "code",
      "source": [
        "prompt = input(\"O que você precisa saber sobre comunismo? \")\n",
        "while prompt != \"fim\":\n",
        "  response = chat.send_message(prompt)\n",
        "  print(\"Resposta: \", response.text, \"/n\")\n",
        "  prompt = input(\"O que você precisa saber sobre comunismo? \")"
      ],
      "metadata": {
        "colab": {
          "base_uri": "https://localhost:8080/",
          "height": 1000
        },
        "id": "zKQMY7nJXhY9",
        "outputId": "6a2e3303-a295-4afe-8a3a-82828b0e27ca"
      },
      "execution_count": 14,
      "outputs": [
        {
          "name": "stdout",
          "output_type": "stream",
          "text": [
            "O que você precisa saber sobre comunismo? Coréia do norte\n",
            "Resposta:  **North Korea**\n",
            "\n",
            "**Official Name:** Democratic People's Republic of Korea (DPRK)\n",
            "\n",
            "**Capital:** Pyongyang\n",
            "\n",
            "**Official Language:** Korean\n",
            "\n",
            "**Currency:** North Korean won\n",
            "\n",
            "**Population:** 25.7 million (2023 est.)\n",
            "\n",
            "**Area:** 120,540 sq km (46,541 sq mi)\n",
            "\n",
            "**Government:** Single-party socialist state\n",
            "\n",
            "**Supreme Leader:** Kim Jong-un\n",
            "\n",
            "**Geography:**\n",
            "\n",
            "* Located in East Asia, on the Korean Peninsula\n",
            "* Bordered by China and South Korea\n",
            "* Mountainous terrain, with a narrow coastal plain\n",
            "\n",
            "**History:**\n",
            "\n",
            "* Part of the Korean Empire until 1910\n",
            "* Japanese colony from 1910 to 1945\n",
            "* Divided into North and South Korea after World War II\n",
            "* Korean War from 1950 to 1953\n",
            "* Has been ruled by the Kim family since 1948\n",
            "\n",
            "**Economy:**\n",
            "\n",
            "* Centrally planned economy\n",
            "* Heavily reliant on agriculture and mining\n",
            "* Closed to foreign investment and trade\n",
            "* Suffers from chronic food shortages and economic isolation\n",
            "\n",
            "**Culture:**\n",
            "\n",
            "* Unique and isolated culture, influenced by Korean traditions and socialist ideology\n",
            "* Known for its propaganda, mass games, and reverence for the Kim family\n",
            "* Strict censorship and control over media and information\n",
            "\n",
            "**Other Facts:**\n",
            "\n",
            "* North Korea is one of the most isolated countries in the world.\n",
            "* It has a large military and is believed to possess nuclear weapons.\n",
            "* The country has been accused of human rights violations, including arbitrary detention, torture, and public executions.\n",
            "* North Korea is a member of the United Nations, but is subject to international sanctions due to its nuclear and missile programs.\n",
            "\n",
            "**Current Situation:**\n",
            "\n",
            "* North Korea remains one of the most repressive and authoritarian regimes in the world.\n",
            "* The country is facing severe economic challenges and food shortages.\n",
            "* Tensions with South Korea and the United States remain high over North Korea's nuclear and missile programs.\n",
            "* International efforts are ongoing to denuclearize North Korea and improve relations with the outside world. /n\n",
            "O que você precisa saber sobre comunismo? fim\n"
          ]
        }
      ]
    }
  ]
}